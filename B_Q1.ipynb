{
 "cells": [
  {
   "cell_type": "code",
   "execution_count": 1,
   "id": "fc2f42cc",
   "metadata": {},
   "outputs": [
    {
     "name": "stderr",
     "output_type": "stream",
     "text": [
      "/home/nihang/.local/lib/python3.8/site-packages/tqdm/auto.py:22: TqdmWarning: IProgress not found. Please update jupyter and ipywidgets. See https://ipywidgets.readthedocs.io/en/stable/user_install.html\n",
      "  from .autonotebook import tqdm as notebook_tqdm\n"
     ]
    }
   ],
   "source": [
    "import numpy as np\n",
    "import torch\n",
    "import torchvision\n",
    "import matplotlib.pyplot as plt\n",
    "from time import time\n",
    "from torchvision import datasets, transforms\n",
    "from torch import nn, optim"
   ]
  },
  {
   "cell_type": "code",
   "execution_count": 2,
   "id": "9c093684",
   "metadata": {},
   "outputs": [],
   "source": [
    "##transform.ToTensor: convert image to numbers\n",
    "##transform.Normalize: normalize the tensor with mean and std.\n",
    "transform = transforms.Compose([transforms.ToTensor(),\n",
    "                              transforms.Normalize((0.5,), (0.5,)),\n",
    "                              ])"
   ]
  },
  {
   "cell_type": "code",
   "execution_count": 3,
   "id": "5a41db58",
   "metadata": {},
   "outputs": [],
   "source": [
    "# download MNIST dataset\n",
    "trainset = datasets.MNIST('./', download=True, train=True, transform=transform)\n",
    "valset = datasets.MNIST('./', download=True, train=False, transform=transform)\n",
    "trainloader = torch.utils.data.DataLoader(trainset, batch_size=64, shuffle=True)\n",
    "valloader = torch.utils.data.DataLoader(valset, batch_size=64, shuffle=True)"
   ]
  },
  {
   "cell_type": "code",
   "execution_count": 4,
   "id": "08d3a453",
   "metadata": {},
   "outputs": [
    {
     "name": "stdout",
     "output_type": "stream",
     "text": [
      "torch.Size([64, 1, 28, 28]) torch.Size([64])\n"
     ]
    },
    {
     "data": {
      "text/plain": [
       "<matplotlib.image.AxesImage at 0x7f2f93f1af40>"
      ]
     },
     "execution_count": 4,
     "metadata": {},
     "output_type": "execute_result"
    },
    {
     "data": {
      "image/png": "[encoded data removed]",
      "text/plain": [
       "<Figure size 640x480 with 1 Axes>"
      ]
     },
     "metadata": {},
     "output_type": "display_data"
    }
   ],
   "source": [
    "## \n",
    "dataiter = iter(trainloader)\n",
    "images, labels = dataiter.next()\n",
    "\n",
    "print(images.shape, labels.shape)\n",
    "\n",
    "## show an image\n",
    "plt.imshow(images[0].numpy().squeeze(), cmap='gray_r')"
   ]
  },
  {
   "cell_type": "code",
   "execution_count": 5,
   "id": "6889d575",
   "metadata": {},
   "outputs": [],
   "source": [
    "# ## display more images\n",
    "# figure = plt.figure()\n",
    "# num_of_images = 60\n",
    "# for index in range(1, num_of_images + 1):\n",
    "#     plt.subplot(6, 10, index)\n",
    "#     plt.axis('off')\n",
    "#     plt.imshow(images[index].numpy().squeeze(), cmap='gray_r')"
   ]
  },
  {
   "cell_type": "code",
   "execution_count": 6,
   "id": "fcbd17c9",
   "metadata": {},
   "outputs": [],
   "source": [
    "# ReLU\n",
    "def relu(x):\n",
    "    return np.maximum(0, x)\n",
    "\n",
    "# Derivative of the relu \n",
    "def der_relu(x):\n",
    "    return 1.0*(x>0)"
   ]
  },
  {
   "cell_type": "code",
   "execution_count": 7,
   "id": "bab1c0d6",
   "metadata": {},
   "outputs": [
    {
     "name": "stdout",
     "output_type": "stream",
     "text": [
      "<generator object Module.parameters at 0x7f2f93eae120>\n"
     ]
    }
   ],
   "source": [
    "## build the neural network with two hidden layers\n",
    "input_size = 784\n",
    "hidden_sizes = [128, 64]\n",
    "output_size = 10\n",
    "\n",
    "model = nn.Sequential(nn.Linear(input_size, hidden_sizes[0]),\n",
    "                      nn.ReLU(),\n",
    "                      nn.Linear(hidden_sizes[0], hidden_sizes[1]),\n",
    "                      nn.ReLU(),\n",
    "                      nn.Linear(hidden_sizes[1], output_size),\n",
    "                      nn.LogSoftmax(dim=1))\n",
    "print(model.parameters())"
   ]
  },
  {
   "cell_type": "code",
   "execution_count": 8,
   "id": "4e2fad5d",
   "metadata": {},
   "outputs": [
    {
     "name": "stdout",
     "output_type": "stream",
     "text": [
      "torch.Size([128, 784])\n",
      "torch.Size([128])\n",
      "torch.Size([64, 128])\n",
      "torch.Size([64])\n",
      "torch.Size([10, 64])\n",
      "torch.Size([10])\n"
     ]
    }
   ],
   "source": [
    "for layer in model.parameters():\n",
    "    print(layer.shape)"
   ]
  },
  {
   "cell_type": "code",
   "execution_count": 9,
   "id": "7a36800b",
   "metadata": {},
   "outputs": [],
   "source": [
    "criterion = nn.NLLLoss()\n",
    "images, labels = next(iter(trainloader))\n",
    "images = images.view(images.shape[0], -1)\n",
    "\n",
    "logps = model(images) #log probabilities\n",
    "loss = criterion(logps, labels) #calculate the NLL loss\n"
   ]
  },
  {
   "cell_type": "code",
   "execution_count": 10,
   "id": "d71e6540",
   "metadata": {},
   "outputs": [
    {
     "name": "stdout",
     "output_type": "stream",
     "text": [
      "Epoch 0 - Training loss: 2.250600530902968, Valid loss: 2.1845455169677734, valid accuracy: 0.3172\n",
      "Epoch 5 - Training loss: 0.8707033729375299, Valid loss: 0.7667863965034485, valid accuracy: 0.8127\n",
      "Epoch 10 - Training loss: 0.4946035433933933, Valid loss: 0.4630560278892517, valid accuracy: 0.8745\n",
      "Epoch 15 - Training loss: 0.4016501232981682, Valid loss: 0.38223323225975037, valid accuracy: 0.8928\n",
      "Epoch 20 - Training loss: 0.35999391590163654, Valid loss: 0.34338465332984924, valid accuracy: 0.9026\n",
      "Epoch 25 - Training loss: 0.3347539530316396, Valid loss: 0.3221394121646881, valid accuracy: 0.9063\n",
      "Epoch 30 - Training loss: 0.3171451529190103, Valid loss: 0.30577144026756287, valid accuracy: 0.9112\n",
      "Epoch 35 - Training loss: 0.3030662423909219, Valid loss: 0.2920578718185425, valid accuracy: 0.9167\n",
      "Epoch 40 - Training loss: 0.2914284908933553, Valid loss: 0.2823936939239502, valid accuracy: 0.9196\n",
      "Epoch 45 - Training loss: 0.2808937486539136, Valid loss: 0.2745712697505951, valid accuracy: 0.9209\n",
      "Epoch 50 - Training loss: 0.2715132375801804, Valid loss: 0.26508647203445435, valid accuracy: 0.9251\n",
      "Epoch 55 - Training loss: 0.26214790320806286, Valid loss: 0.25605708360671997, valid accuracy: 0.9269\n",
      "Epoch 60 - Training loss: 0.2534391669703445, Valid loss: 0.24969513714313507, valid accuracy: 0.928\n",
      "Epoch 65 - Training loss: 0.2450970552766374, Valid loss: 0.24235180020332336, valid accuracy: 0.9311\n",
      "Epoch 70 - Training loss: 0.2368967719495233, Valid loss: 0.2336970716714859, valid accuracy: 0.9316\n",
      "Epoch 75 - Training loss: 0.2291177587627348, Valid loss: 0.22755631804466248, valid accuracy: 0.9352\n",
      "Epoch 80 - Training loss: 0.22163150009951357, Valid loss: 0.22288267314434052, valid accuracy: 0.9352\n",
      "Epoch 85 - Training loss: 0.2143436432289861, Valid loss: 0.2148040235042572, valid accuracy: 0.9366\n",
      "Epoch 90 - Training loss: 0.20739914594031472, Valid loss: 0.20834773778915405, valid accuracy: 0.9394\n",
      "Epoch 95 - Training loss: 0.20063189439761486, Valid loss: 0.20536789298057556, valid accuracy: 0.9394\n",
      "Epoch 100 - Training loss: 0.1942732712305558, Valid loss: 0.19615505635738373, valid accuracy: 0.9422\n",
      "Epoch 105 - Training loss: 0.1881702178433887, Valid loss: 0.1906653493642807, valid accuracy: 0.9423\n",
      "Epoch 110 - Training loss: 0.18249149006932402, Valid loss: 0.18513476848602295, valid accuracy: 0.9436\n",
      "Epoch 115 - Training loss: 0.17694933231927948, Valid loss: 0.18136066198349, valid accuracy: 0.9466\n",
      "Epoch 120 - Training loss: 0.17176754436473538, Valid loss: 0.1766618937253952, valid accuracy: 0.9477\n",
      "Epoch 125 - Training loss: 0.1668320977524209, Valid loss: 0.17297282814979553, valid accuracy: 0.9488\n",
      "Epoch 130 - Training loss: 0.16211501371735004, Valid loss: 0.1680474728345871, valid accuracy: 0.9494\n",
      "Epoch 135 - Training loss: 0.15757711620123654, Valid loss: 0.164456307888031, valid accuracy: 0.9513\n",
      "Epoch 140 - Training loss: 0.15338309211477733, Valid loss: 0.1615661382675171, valid accuracy: 0.9514\n",
      "Epoch 145 - Training loss: 0.14932831922875667, Valid loss: 0.15782862901687622, valid accuracy: 0.9529\n",
      "Epoch 150 - Training loss: 0.1452864858526379, Valid loss: 0.15302783250808716, valid accuracy: 0.9546\n",
      "Epoch 155 - Training loss: 0.14166113656800566, Valid loss: 0.149844691157341, valid accuracy: 0.955\n",
      "Epoch 160 - Training loss: 0.13801426839814193, Valid loss: 0.1476271152496338, valid accuracy: 0.9563\n",
      "Epoch 165 - Training loss: 0.13460647090594333, Valid loss: 0.14550794661045074, valid accuracy: 0.9569\n",
      "Epoch 170 - Training loss: 0.13136780830715766, Valid loss: 0.14250710606575012, valid accuracy: 0.9582\n",
      "Epoch 175 - Training loss: 0.12813783046017005, Valid loss: 0.13910123705863953, valid accuracy: 0.9587\n",
      "Epoch 180 - Training loss: 0.12501218658822305, Valid loss: 0.1367349773645401, valid accuracy: 0.9592\n",
      "Epoch 185 - Training loss: 0.12234286631324462, Valid loss: 0.13460810482501984, valid accuracy: 0.9594\n",
      "Epoch 190 - Training loss: 0.1195290442973153, Valid loss: 0.1330816000699997, valid accuracy: 0.9601\n",
      "Epoch 195 - Training loss: 0.11669512347443335, Valid loss: 0.13188868761062622, valid accuracy: 0.9622\n",
      "Epoch 200 - Training loss: 0.11410011862045222, Valid loss: 0.1283601075410843, valid accuracy: 0.9618\n",
      "Epoch 205 - Training loss: 0.11155691305930013, Valid loss: 0.1263616979122162, valid accuracy: 0.9629\n",
      "Epoch 210 - Training loss: 0.10922265082184694, Valid loss: 0.12465989589691162, valid accuracy: 0.9627\n",
      "Epoch 215 - Training loss: 0.10689532955381661, Valid loss: 0.12265043705701828, valid accuracy: 0.9642\n",
      "Epoch 220 - Training loss: 0.10459686298646144, Valid loss: 0.12240558117628098, valid accuracy: 0.9637\n",
      "Epoch 225 - Training loss: 0.10240499235427519, Valid loss: 0.12033969163894653, valid accuracy: 0.9644\n",
      "Epoch 230 - Training loss: 0.100190045052905, Valid loss: 0.11782924085855484, valid accuracy: 0.9652\n",
      "Epoch 235 - Training loss: 0.09829165601233111, Valid loss: 0.1170019879937172, valid accuracy: 0.9658\n",
      "Epoch 240 - Training loss: 0.09616526105165132, Valid loss: 0.11520896106958389, valid accuracy: 0.9649\n",
      "Epoch 245 - Training loss: 0.09435829380129986, Valid loss: 0.11404921859502792, valid accuracy: 0.966\n",
      "Epoch 250 - Training loss: 0.09245389091994749, Valid loss: 0.11527825891971588, valid accuracy: 0.9666\n",
      "Epoch 255 - Training loss: 0.09074870619311262, Valid loss: 0.11243213713169098, valid accuracy: 0.9663\n",
      "Epoch 260 - Training loss: 0.08886774303391576, Valid loss: 0.1112363189458847, valid accuracy: 0.9663\n",
      "Epoch 265 - Training loss: 0.08718817191980859, Valid loss: 0.11069852858781815, valid accuracy: 0.9667\n",
      "Epoch 270 - Training loss: 0.0856043607232842, Valid loss: 0.10861452668905258, valid accuracy: 0.9672\n",
      "Epoch 275 - Training loss: 0.0840213514620196, Valid loss: 0.10687361657619476, valid accuracy: 0.9673\n",
      "Epoch 280 - Training loss: 0.08248704167078934, Valid loss: 0.10637955367565155, valid accuracy: 0.9677\n",
      "Epoch 285 - Training loss: 0.08090602816132181, Valid loss: 0.10526321828365326, valid accuracy: 0.9678\n",
      "Epoch 290 - Training loss: 0.0793841340457961, Valid loss: 0.10441949963569641, valid accuracy: 0.9677\n",
      "Epoch 295 - Training loss: 0.07790897675811737, Valid loss: 0.10310375690460205, valid accuracy: 0.9688\n",
      "Epoch 300 - Training loss: 0.07650965481384922, Valid loss: 0.10184430330991745, valid accuracy: 0.9683\n",
      "Epoch 305 - Training loss: 0.07517121951860278, Valid loss: 0.10139989107847214, valid accuracy: 0.9689\n",
      "Epoch 310 - Training loss: 0.07385896057980672, Valid loss: 0.10046019405126572, valid accuracy: 0.9689\n",
      "Epoch 315 - Training loss: 0.07250533159822226, Valid loss: 0.09986236691474915, valid accuracy: 0.969\n",
      "Epoch 320 - Training loss: 0.07126498964132626, Valid loss: 0.09876611083745956, valid accuracy: 0.9695\n",
      "Epoch 325 - Training loss: 0.06999648785365543, Valid loss: 0.09807785600423813, valid accuracy: 0.9689\n",
      "Epoch 330 - Training loss: 0.06882353277722084, Valid loss: 0.09759266674518585, valid accuracy: 0.9696\n",
      "Epoch 335 - Training loss: 0.06766018345366234, Valid loss: 0.09733372926712036, valid accuracy: 0.9691\n",
      "Epoch 340 - Training loss: 0.06639244003412026, Valid loss: 0.09907132387161255, valid accuracy: 0.9704\n",
      "Epoch 345 - Training loss: 0.06531694428330022, Valid loss: 0.09608533978462219, valid accuracy: 0.9709\n",
      "Epoch 350 - Training loss: 0.06419373887912758, Valid loss: 0.09431175887584686, valid accuracy: 0.9698\n",
      "Epoch 355 - Training loss: 0.063099695300596, Valid loss: 0.0943971499800682, valid accuracy: 0.971\n",
      "Epoch 360 - Training loss: 0.062100667998925455, Valid loss: 0.09370095282793045, valid accuracy: 0.9714\n",
      "Epoch 365 - Training loss: 0.061056437869387456, Valid loss: 0.09264546632766724, valid accuracy: 0.971\n",
      "Epoch 370 - Training loss: 0.060129907794856725, Valid loss: 0.09228863567113876, valid accuracy: 0.971\n",
      "Epoch 375 - Training loss: 0.059190179427354925, Valid loss: 0.09122461825609207, valid accuracy: 0.9708\n",
      "Epoch 380 - Training loss: 0.05819955792080468, Valid loss: 0.09067273885011673, valid accuracy: 0.9709\n",
      "Epoch 385 - Training loss: 0.057224580434772535, Valid loss: 0.09116344898939133, valid accuracy: 0.972\n",
      "Epoch 390 - Training loss: 0.05636768751958413, Valid loss: 0.09029640257358551, valid accuracy: 0.972\n",
      "Epoch 395 - Training loss: 0.05543757891649805, Valid loss: 0.08966539800167084, valid accuracy: 0.9715\n"
     ]
    },
    {
     "name": "stdout",
     "output_type": "stream",
     "text": [
      "Epoch 400 - Training loss: 0.05454065876681286, Valid loss: 0.08916892856359482, valid accuracy: 0.9719\n",
      "Epoch 405 - Training loss: 0.0537037297066595, Valid loss: 0.08984105288982391, valid accuracy: 0.9727\n",
      "Epoch 410 - Training loss: 0.05281362741458804, Valid loss: 0.08865058422088623, valid accuracy: 0.9723\n",
      "Epoch 415 - Training loss: 0.05214938601758927, Valid loss: 0.08876809477806091, valid accuracy: 0.9728\n",
      "Epoch 420 - Training loss: 0.0511502928680369, Valid loss: 0.08788720518350601, valid accuracy: 0.9725\n",
      "Epoch 425 - Training loss: 0.05043139192424635, Valid loss: 0.08795351535081863, valid accuracy: 0.9728\n",
      "Epoch 430 - Training loss: 0.049638301911039046, Valid loss: 0.08869679272174835, valid accuracy: 0.9723\n",
      "Epoch 435 - Training loss: 0.048917424625782635, Valid loss: 0.0867656022310257, valid accuracy: 0.9727\n",
      "Epoch 440 - Training loss: 0.048205944730826754, Valid loss: 0.08724566549062729, valid accuracy: 0.9727\n",
      "Epoch 445 - Training loss: 0.04745398019688692, Valid loss: 0.08708969503641129, valid accuracy: 0.9727\n",
      "Epoch 450 - Training loss: 0.04671811185993636, Valid loss: 0.0855935737490654, valid accuracy: 0.9736\n",
      "Epoch 455 - Training loss: 0.04606161472836394, Valid loss: 0.08552189916372299, valid accuracy: 0.9729\n",
      "Epoch 460 - Training loss: 0.045364310519138314, Valid loss: 0.08531999588012695, valid accuracy: 0.9726\n",
      "Epoch 465 - Training loss: 0.04474312287848641, Valid loss: 0.08554147928953171, valid accuracy: 0.9735\n",
      "Epoch 470 - Training loss: 0.04400672540113306, Valid loss: 0.08459219336509705, valid accuracy: 0.9726\n",
      "Epoch 475 - Training loss: 0.043360543843390525, Valid loss: 0.08419235050678253, valid accuracy: 0.9728\n",
      "Epoch 480 - Training loss: 0.04274156628730598, Valid loss: 0.08468344062566757, valid accuracy: 0.9732\n",
      "Epoch 485 - Training loss: 0.04205921460250849, Valid loss: 0.084197498857975, valid accuracy: 0.9733\n",
      "Epoch 490 - Training loss: 0.041411171585365114, Valid loss: 0.08464943617582321, valid accuracy: 0.9738\n",
      "Epoch 495 - Training loss: 0.0408226371383362, Valid loss: 0.08329398185014725, valid accuracy: 0.9739\n",
      "Training Time (in minutes) = 140.7386125524839\n"
     ]
    }
   ],
   "source": [
    "## training process\n",
    "#optimizer = optim.SGD(model.parameters(), lr=0.003, momentum=0.9)\n",
    "time0 = time()\n",
    "lr = 0.0008\n",
    "\n",
    "train_list = []\n",
    "valid_list = []\n",
    "\n",
    "min_loss = np.inf\n",
    "epochs = 500\n",
    "for e in range(epochs):\n",
    "    running_loss = 0\n",
    "    for images, labels in trainloader:\n",
    "        # Flatten MNIST images into a 784 long vector\n",
    "        images = images.view(images.shape[0], -1)\n",
    "    \n",
    "        # Training pass\n",
    "        #optimizer.zero_grad()\n",
    "        \n",
    "        output = model(images)\n",
    "        loss = criterion(output, labels)\n",
    "        \n",
    "        #This is where the model learns by backpropagating\n",
    "        loss.backward()\n",
    "        \n",
    "        with torch.no_grad():\n",
    "            for param in model.parameters():\n",
    "                param -= lr*param.grad\n",
    "\n",
    "        #And optimizes its weights here\n",
    "        #optimizer.step()\n",
    "        \n",
    "        running_loss += loss.item()\n",
    "    \n",
    "        model.zero_grad()\n",
    "    #else:\n",
    "    #    print(\"Epoch {} - Training loss: {}\".format(e, running_loss/len(trainloader)))\n",
    "        \n",
    "    ## valid each epoch\n",
    "    correct_count, all_count = 0, 0\n",
    "    valid_loss = 0\n",
    "    with torch.no_grad():\n",
    "        for images,labels in valloader:\n",
    "            img = images.view(images.shape[0], -1)\n",
    "            output = model(img)\n",
    "            # print(output.shape)\n",
    "            loss = criterion(output, labels)\n",
    "            valid_loss += loss\n",
    "            for i in range(len(labels)):\n",
    "                img = images[i].view(1, 784)\n",
    "                with torch.no_grad():\n",
    "                    logps = model(img)\n",
    "                ps = torch.exp(logps)\n",
    "                probab = list(ps.numpy()[0])\n",
    "                pred_label = probab.index(max(probab))\n",
    "                true_label = labels.numpy()[i]\n",
    "                if(true_label == pred_label):\n",
    "                    correct_count += 1\n",
    "                all_count += 1\n",
    "    \n",
    "    \n",
    "    tmp_train_loss = running_loss/len(trainloader)\n",
    "    tmp_valid_loss = valid_loss/len(valloader)\n",
    "    \n",
    "    train_list.append(tmp_train_loss)\n",
    "    valid_list.append(tmp_valid_loss)\n",
    "    \n",
    "    if min_loss > tmp_valid_loss:\n",
    "        bst_model = model\n",
    "    if e%5 == 0: \n",
    "        print(\"Epoch {} - Training loss: {}, Valid loss: {}, valid accuracy: {}\".format(e, tmp_train_loss, tmp_valid_loss, correct_count/all_count))\n",
    "    # print(\"Number Of Images Tested =\", all_count)\n",
    "    #print(\"Valid Model Accuracy =\", (correct_count/all_count))\n",
    "    \n",
    "    \n",
    "print(\"Training Time (in minutes) =\",(time()-time0)/60)"
   ]
  },
  {
   "cell_type": "code",
   "execution_count": 13,
   "id": "8b400ca1",
   "metadata": {},
   "outputs": [],
   "source": [
    "# save best model\n",
    "torch.save(bst_model, './my_mnist_model.pt') "
   ]
  },
  {
   "cell_type": "code",
   "execution_count": 14,
   "id": "cdfbd33c",
   "metadata": {},
   "outputs": [
    {
     "data": {
      "image/png": "[encoded data removed]",
      "text/plain": [
       "<Figure size 640x480 with 1 Axes>"
      ]
     },
     "metadata": {},
     "output_type": "display_data"
    }
   ],
   "source": [
    "## plot loss cruve\n",
    "import matplotlib.pyplot as plt\n",
    "\n",
    "idx_list = list(range(len(valid_list)))\n",
    "\n",
    "#fig = plt.figure()\n",
    "plt.plot(idx_list,train_list,'s-',color = 'r',label=\"Train loss\")  # train curve\n",
    "plt.plot(idx_list,valid_list,'o-',color = 'g',label=\"Valid loss\", alpha = 0.5)  # validation curve\n",
    "plt.xlabel(\"Epochs\")\n",
    "plt.ylabel(\"Loss\")\n",
    "plt.legend() \n",
    "plt.title(\"Train-Valid Loss Curve\")\n",
    "plt.savefig(\"Q1_loss_curve\")\n",
    "plt.show()\n"
   ]
  },
  {
   "cell_type": "code",
   "execution_count": null,
   "id": "4b5acd78",
   "metadata": {},
   "outputs": [],
   "source": []
  }
 ],
 "metadata": {
  "kernelspec": {
   "display_name": "Python 3 (ipykernel)",
   "language": "python",
   "name": "python3"
  },
  "language_info": {
   "codemirror_mode": {
    "name": "ipython",
    "version": 3
   },
   "file_extension": ".py",
   "mimetype": "text/x-python",
   "name": "python",
   "nbconvert_exporter": "python",
   "pygments_lexer": "ipython3",
   "version": "3.8.10"
  }
 },
 "nbformat": 4,
 "nbformat_minor": 5
}
